{
 "cells": [
  {
   "cell_type": "code",
   "execution_count": null,
   "id": "8b5d8f12-cd0f-48e0-a2b3-18c1f7efc6d8",
   "metadata": {},
   "outputs": [],
   "source": [
    "# Spell Checker in Python \n",
    "# pip install pyspellchecker\n",
    "from spellchecker import SpellChecker as spell\n",
    "Words = spell.unknown(['Python'  , 'is' , 'a' , 'good' , 'lantyguage'])\n",
    "for w in Words:\n",
    "    print(spell.correction(w)) #language\n",
    "    print(spell.candidates(w)) #{ language }"
   ]
  }
 ],
 "metadata": {
  "kernelspec": {
   "display_name": "Python 3 (ipykernel)",
   "language": "python",
   "name": "python3"
  },
  "language_info": {
   "codemirror_mode": {
    "name": "ipython",
    "version": 3
   },
   "file_extension": ".py",
   "mimetype": "text/x-python",
   "name": "python",
   "nbconvert_exporter": "python",
   "pygments_lexer": "ipython3",
   "version": "3.7.11"
  }
 },
 "nbformat": 4,
 "nbformat_minor": 5
}
